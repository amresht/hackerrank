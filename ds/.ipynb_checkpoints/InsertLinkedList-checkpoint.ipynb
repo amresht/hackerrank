{
 "cells": [
  {
   "cell_type": "code",
   "execution_count": 3,
   "metadata": {},
   "outputs": [
    {
     "ename": "SyntaxError",
     "evalue": "invalid syntax (<ipython-input-3-0848492a8d20>, line 45)",
     "output_type": "error",
     "traceback": [
      "\u001b[1;36m  File \u001b[1;32m\"<ipython-input-3-0848492a8d20>\"\u001b[1;36m, line \u001b[1;32m45\u001b[0m\n\u001b[1;33m    fptr = open(os.environ['G:\\'], 'w')\u001b[0m\n\u001b[1;37m                                    ^\u001b[0m\n\u001b[1;31mSyntaxError\u001b[0m\u001b[1;31m:\u001b[0m invalid syntax\n"
     ]
    }
   ],
   "source": [
    "#!/bin/python3\n",
    "\n",
    "import math\n",
    "import os\n",
    "import random\n",
    "import re\n",
    "import sys\n",
    "\n",
    "class SinglyLinkedListNode:\n",
    "    def __init__(self, node_data):\n",
    "        self.data = node_data\n",
    "        self.next = None\n",
    "\n",
    "class SinglyLinkedList:\n",
    "    def __init__(self):\n",
    "        self.head = None\n",
    "        self.tail = None\n",
    "\n",
    "    def insert_node(self, node_data):\n",
    "        node = SinglyLinkedListNode(node_data)\n",
    "\n",
    "        if not self.head:\n",
    "            self.head = node\n",
    "        else:\n",
    "            self.tail.next = node\n",
    "\n",
    "\n",
    "        self.tail = node\n",
    "\n",
    "def print_singly_linked_list(node, sep, fptr):\n",
    "    while node:\n",
    "        fptr.write(str(node.data))\n",
    "\n",
    "        node = node.next\n",
    "\n",
    "        if node:\n",
    "            fptr.write(sep)\n",
    "\n",
    "# Complete the insertNodeAtPosition function below.\n",
    "#https://www.hackerrank.com/challenges/insert-a-node-at-a-specific-position-in-a-linked-list/problem\n",
    "def insertNodeAtPosition(head, data, position):\n",
    "    pass\n",
    "\n",
    "if __name__ == '__main__':\n",
    "    fptr = open(os.environ['G:\\sample.txt'], 'w')\n",
    "\n",
    "    llist_count = int(input())\n",
    "\n",
    "    llist = SinglyLinkedList()\n",
    "\n",
    "    for _ in range(llist_count):\n",
    "        llist_item = int(input())\n",
    "        llist.insert_node(llist_item)\n",
    "\n",
    "    data = int(input())\n",
    "\n",
    "    position = int(input())\n",
    "\n",
    "    llist_head = insertNodeAtPosition(llist.head, data, position)\n",
    "\n",
    "    print_singly_linked_list(llist_head, ' ', fptr)\n",
    "    fptr.write('\\n')\n",
    "\n",
    "    fptr.close()\n"
   ]
  },
  {
   "cell_type": "code",
   "execution_count": null,
   "metadata": {},
   "outputs": [],
   "source": []
  },
  {
   "cell_type": "code",
   "execution_count": null,
   "metadata": {},
   "outputs": [],
   "source": []
  }
 ],
 "metadata": {
  "kernelspec": {
   "display_name": "Python 3",
   "language": "python",
   "name": "python3"
  },
  "language_info": {
   "codemirror_mode": {
    "name": "ipython",
    "version": 3
   },
   "file_extension": ".py",
   "mimetype": "text/x-python",
   "name": "python",
   "nbconvert_exporter": "python",
   "pygments_lexer": "ipython3",
   "version": "3.8.3"
  }
 },
 "nbformat": 4,
 "nbformat_minor": 4
}
